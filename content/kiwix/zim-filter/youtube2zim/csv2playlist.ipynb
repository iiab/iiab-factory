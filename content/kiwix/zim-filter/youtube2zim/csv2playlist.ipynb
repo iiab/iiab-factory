{
 "cells": [
  {
   "cell_type": "markdown",
   "id": "lyric-census",
   "metadata": {},
   "source": [
    "### Using Openzim Youtube2zim program\n",
    "* This program is written by Kiwix and has a variety of methods for specifying which videos to include in a ZIM file. Unfortunately, a flat file of youtube ID's is not one of them. But one of the input specifications that is available is to specify a \"Youtube Playlist\".\n",
    "* Getting permission to write a playlist from a python program is a task.\n",
    "    1. The written playlist can only be written to by a user who has a google account, and who also owns a Youtube Channel.\n",
    "    2. with proper credentials, the owner can create a playlist of up to 5000 videos in her own channel.\n",
    "    3. Writing to youtube requires an oauth2 credential. The steps I found necessary:\n",
    "        1. Go to \"console.developer.google.com\" to create a project.\n",
    "        2. Within that project create a key (for reading public data) and a oauth2 credential for writing.\n",
    "        3. The credential needs to specify a callback where google can return a software key which includes the permission that the owner of a Youtube channel gives to the python program. The callback I used was a flask program at iiab-factory/content/kiwix/ted-tools/flask_oauth_youtuve.py. And the URL created by this flask program needs to be specified to google during the process of creating the oauth2 credential as \"http://localhost:8088/oauth2callback\".\n",
    "        4. The flask program writes a file in the current directory \"zim_playbook_oauth_credentials\".\n",
    "* Very useful:  https://github.com/youtube/api-samples/tree/master/python"
   ]
  },
  {
   "cell_type": "code",
   "execution_count": 25,
   "id": "worldwide-enough",
   "metadata": {},
   "outputs": [],
   "source": [
    "# -*- coding: utf-8 -*-\n",
    "# This cell defines GLOBALS and the ENV\n",
    "\n",
    "import os,sys\n",
    "import json\n",
    "\n",
    "PREFIX = os.environ.get('ZIM_PREFIX','/ext/zims')\n",
    "CACHE_DIR = PREFIX + '/youtube/cache'\n",
    "# Declare a short project name (ZIM files are often long strings\n",
    "#PROJECT_NAME = 'ted-kiwix'\n",
    "PROJECT_NAME = 'youtube'\n",
    "PREFIX = os.environ.get('ZIM_PREFIX','/ext/zims')\n",
    "TARGET_SIZE =10000000000  #10GB\n",
    "# Input the full path of the downloaded ZIM file\n",
    "ZIM_PATH = '%s/%s/working/wanted_list.csv'%(PREFIX,PROJECT_NAME,) \n",
    "# The rest of the paths are computed and represent the standard layout\n",
    "# Jupyter sets a working director as part of it's setup. We need it's value\n",
    "HOME = os.environ['HOME']\n",
    "WORKING_DIR = PREFIX + '/' + PROJECT_NAME + '/working'\n",
    "PROJECT_DIR = PREFIX + '/' + PROJECT_NAME + '/tree'\n",
    "OUTPUT_DIR = PREFIX + '/' + PROJECT_NAME + '/output_tree'\n",
    "SOURCE_DIR = PREFIX + '/' + PROJECT_NAME + '/zim-src'\n",
    "NEW_ZIM_DIR = PREFIX + '/' + PROJECT_NAME + '/new_zim'\n",
    "\n",
    "# Create the directory structure for this project\n",
    "dir_list = ['output_tree','tree','working/video_json','zim-src','new_zim'] \n",
    "for f in dir_list:\n",
    "    if not os.path.isdir(PREFIX + '/' + PROJECT_NAME +'/' + f): os.makedirs(PREFIX + '/' + PROJECT_NAME +'/' + f) \n",
    "# abort if the input file cannot be found\n",
    "if not os.path.exists(ZIM_PATH):\n",
    "    print('%s path not found. Quitting. . .'%ZIM_PATH)\n",
    "    exit\n"
   ]
  },
  {
   "cell_type": "code",
   "execution_count": 7,
   "id": "protecting-willow",
   "metadata": {},
   "outputs": [],
   "source": [
    "# This cell creates an authenticated youtube object which has methods described in:\n",
    "#   in https://googleapis.github.io/google-api-python-client/docs/dyn/youtube_v3.html\n",
    "\n",
    "import google.oauth2.credentials\n",
    "import googleapiclient.discovery\n",
    "\n",
    "# The User validated google credentials are in my home directory\n",
    "home = os.environ['HOME']\n",
    "with open(\"%s/zim_playbook_oauth_credentials\"%home,'r') as fp:\n",
    "    credentials = json.loads(fp.read())\n",
    "    \n",
    "# Load credentials from file\n",
    "credentials = google.oauth2.credentials.Credentials(**credentials)\n",
    " \n",
    "youtube = googleapiclient.discovery.build(\n",
    "    'youtube', 'v3', credentials=credentials)\n",
    "\n",
    "channel = youtube.channels().list(mine=True, part='snippet').execute()\n",
    "\n",
    "# check that the authentication worked\n",
    "#print(json.dumps(channel,indent=2))"
   ]
  },
  {
   "cell_type": "code",
   "execution_count": 8,
   "id": "thick-distribution",
   "metadata": {},
   "outputs": [],
   "source": [
    "# Playlist id for youtube2zim\n",
    "CURRENT_PLAYLIST_ID = \"PLs2auPpToJpbDRe9sh5nbeXRviOI4HpAL\"\n",
    "#PLs2auPpToJpb0ttyGab3c5h5XUn7dXE-9\n",
    "def add_playlist(youtube):\n",
    "  body = dict(\n",
    "    snippet=dict(\n",
    "      title=\"youtube2zim\",\n",
    "      description=\"This is a temporary Playslist which is used as source for the Openzim 'youtube2zim' program.\"\n",
    "    ),\n",
    "    status=dict(\n",
    "      privacyStatus='public'\n",
    "    ) \n",
    "  ) \n",
    "  playlists_insert_response = youtube.playlists().insert(\n",
    "    part='snippet,status',\n",
    "    body=body\n",
    "  ).execute()\n",
    "  print('New playlist ID: %s' % playlists_insert_response['id'])\n",
    "#add_playlist(youtube)"
   ]
  },
  {
   "cell_type": "code",
   "execution_count": 9,
   "id": "medical-terror",
   "metadata": {
    "tags": []
   },
   "outputs": [
    {
     "name": "stdout",
     "output_type": "stream",
     "text": [
      "['PLs2auPpToJpbDRe9sh5nbeXRviOI4HpAL', 'youtube2zim', 155]\n"
     ]
    }
   ],
   "source": [
    "def get_my_playlists():\n",
    "    playlists_list_response = youtube.playlists().list(\n",
    "        part='contentDetails,snippet',\n",
    "        mine = True\n",
    "        ).execute()\n",
    "    playlists = []\n",
    "    for item in playlists_list_response['items']:\n",
    "        playlists.append([item['id'],item['snippet']['title'],item['contentDetails']['itemCount']])\n",
    "    return playlists\n",
    "\n",
    "\n",
    "my_playlists = get_my_playlists()\n",
    "for pl in my_playlists:\n",
    "    print(pl)\n"
   ]
  },
  {
   "cell_type": "code",
   "execution_count": 10,
   "id": "chronic-rachel",
   "metadata": {},
   "outputs": [
    {
     "name": "stdout",
     "output_type": "stream",
     "text": [
      "resolving title via sqlite\n",
      "Logarithms, Explained - Steve Kelly\n"
     ]
    }
   ],
   "source": [
    "import sqlite3\n",
    "class Sqlite():\n",
    "   def __init__(self, filename):\n",
    "      self.conn = sqlite3.connect(filename)\n",
    "      self.conn.row_factory = sqlite3.Row\n",
    "      self.conn.text_factory = str\n",
    "      self.c = self.conn.cursor()\n",
    "    \n",
    "   def __del__(self):\n",
    "      self.conn.commit()\n",
    "      self.c.close()\n",
    "      del self.conn\n",
    "\n",
    "db = Sqlite(CACHE_DIR + '/zim_video_info.sqlite')\n",
    "TEST_VIDEO_ID = 'zzu2POfYv0Y'\n",
    "\n",
    "def get_data_from_video_id(video_id):\n",
    "    request = youtube.videos().list(\n",
    "        part=\"snippet,contentDetails,statistics\",\n",
    "        id=video_id\n",
    "    )\n",
    "    response = request.execute()\n",
    "    #print(json.dumps(response,indent=2))\n",
    "    return response\n",
    "    \n",
    "def get_title_from_video_id(video_id):\n",
    "    # A daatabase lookup is much faster than round trip to google\n",
    "    sql = 'select * from video_info where yt_id = ?'\n",
    "    result = db.c.execute(sql,(video_id,))\n",
    "    rows = result.fetchall()\n",
    "    if len(rows) == 1:\n",
    "        print('resolving title via sqlite')\n",
    "        return rows[0]['title']\n",
    "    \n",
    "    # Let google look up the title`\n",
    "    data = get_data_from_video_id(video_id)\n",
    "    return data['items'][0]['snippet']['title']\n",
    "\n",
    "test_title = get_title_from_video_id(TEST_VIDEO_ID)\n",
    "print(test_title)\n",
    "    "
   ]
  },
  {
   "cell_type": "code",
   "execution_count": 11,
   "id": "statistical-retreat",
   "metadata": {
    "tags": []
   },
   "outputs": [],
   "source": [
    "def add_video_to_playlist(video_id,playlist_id):\n",
    "    body={\n",
    "      \"snippet\": {\n",
    "        \"playlistId\": playlist_id,\n",
    "        \"position\": 0,\n",
    "        \"resourceId\": {\n",
    "          \"kind\": \"youtube#video\",\n",
    "          \"videoId\": video_id\n",
    "        }\n",
    "      } \n",
    "    }\n",
    "    # print(json.dumps(body,indent=2))\n",
    "    request = youtube.playlistItems().insert(part=\"snippet\",body=body)\n",
    "    response = request.execute()\n",
    "    #print(json.dumps(response,indent=2))\n",
    "        \n",
    "def delete_video_from_playlist(video_id,playlist_id):\n",
    "    # print(json.dumps(body,indent=2))\n",
    "    request = youtube.playlistItems().delete(id=video_id)\n",
    "    response = request.execute()\n",
    "    print(json.dumps(response,indent=2))\n",
    "\n",
    "# add_video_to_playlist(TEST_VIDEO_ID,CURRENT_PLAYLIST_ID)"
   ]
  },
  {
   "cell_type": "code",
   "execution_count": null,
   "id": "australian-commerce",
   "metadata": {},
   "outputs": [],
   "source": []
  },
  {
   "cell_type": "code",
   "execution_count": null,
   "id": "foster-lying",
   "metadata": {},
   "outputs": [],
   "source": []
  },
  {
   "cell_type": "code",
   "execution_count": 12,
   "id": "permanent-smile",
   "metadata": {},
   "outputs": [],
   "source": [
    "def get_my_uploads_list():\n",
    "  # Retrieve the contentDetails part of the channel resource for the\n",
    "  # authenticated user's channel.\n",
    "  channels_response = youtube.channels().list(\n",
    "    mine=True,\n",
    "    part='contentDetails'\n",
    "  ).execute()\n",
    "\n",
    "  for channel in channels_response['items']:\n",
    "    # From the API response, extract the playlist ID that identifies the list\n",
    "    # of videos uploaded to the authenticated user's channel.\n",
    "    return channel['contentDetails']['relatedPlaylists']['uploads']\n",
    "\n",
    "  return None\n"
   ]
  },
  {
   "cell_type": "code",
   "execution_count": null,
   "id": "binary-measure",
   "metadata": {},
   "outputs": [],
   "source": [
    "def get_list_from_playlist_id(playlist_id):\n",
    "  # Retrieve the list of videos uploaded to the authenticated user's channel.\n",
    "  playlistitems_list_request = youtube.playlistItems().list(\n",
    "    playlistId=playlist_id,\n",
    "    part='snippet',\n",
    "    maxResults=50\n",
    "  )\n",
    "  pl_list = {}\n",
    "  while playlistitems_list_request:\n",
    "    playlistitems_list_response = playlistitems_list_request.execute()\n",
    "\n",
    "    for playlist_item in playlistitems_list_response['items']:\n",
    "      title = playlist_item['snippet']['title']\n",
    "      video_id = playlist_item['snippet']['resourceId']['videoId']\n",
    "        \n",
    "      # create a dictionary which the video_id as key and playlist_id as value\n",
    "      pl_list[video_id] = playlist_item['id']\n",
    "      # \n",
    "\n",
    "    playlistitems_list_request = youtube.playlistItems().list_next(\n",
    "      playlistitems_list_request, playlistitems_list_response)\n",
    "  return pl_list\n",
    "\n",
    "try:\n",
    "    playlist_ids = get_list_from_playlist_id(CURRENT_PLAYLIST_ID)\n",
    "    print(CURRENT_PLAYLIST_ID)\n",
    "    for video_id in playlist_ids.keys():\n",
    "        #print('video_id:%s, playlistItem_id:%s'%(video_id,playlist_ids[video_id]))\n",
    "        pass\n",
    "    print('Number of videos: %s'%len(playylist_ids.keys())\n",
    "except HttpError as e:\n",
    "    print('An HTTP error %d occurred:\\n%s' % (e.resp.status, e.content))\n",
    "    print('Probably the %s playlist is does not exist'%CURRENT_PLAYLIST_ID)\n"
   ]
  },
  {
   "cell_type": "code",
   "execution_count": 14,
   "id": "fourth-performance",
   "metadata": {},
   "outputs": [
    {
     "ename": "SyntaxError",
     "evalue": "invalid syntax (<ipython-input-14-187cd13949af>, line 3)",
     "output_type": "error",
     "traceback": [
      "\u001b[0;36m  File \u001b[0;32m\"<ipython-input-14-187cd13949af>\"\u001b[0;36m, line \u001b[0;32m3\u001b[0m\n\u001b[0;31m    print(response)\u001b[0m\n\u001b[0m    ^\u001b[0m\n\u001b[0;31mSyntaxError\u001b[0m\u001b[0;31m:\u001b[0m invalid syntax\n"
     ]
    }
   ],
   "source": [
    "def delete_video_from_playlist(playlist_id):\n",
    "    response = youtube.playlistitems().delete(id=playlist_id.execute()\n",
    "    print(response)"
   ]
  },
  {
   "cell_type": "code",
   "execution_count": null,
   "id": "parliamentary-implement",
   "metadata": {},
   "outputs": [],
   "source": [
    "# This cell synchronizes a playlist with wanted id's in ZIM_PATH file\n",
    "# First delete any vidoes in the playlist that are not wanted\n",
    "def sync_playlist_with_wanted(playlist_id):\n",
    "    video_to_playlist_map = get_list_from_playlist_id(playlist_id)\n",
    "    print('video_to_playlist_map length:%s'%len(video_to_playlist_map))\n",
    "    with open(ZIM_PATH,'r') as fp:\n",
    "        wanted = fp.readlines()\n",
    "        print('length of wanted: %s'%len(wanted))\n",
    "        for video_id in video_to_playlist_map.keys():\n",
    "            if video_id not in wanted:\n",
    "                item_id = video_to_playlist_map[video_id]\n",
    "                response = youtube.playlistItems().delete(id=item_id).execute()\n",
    "        added = 1\n",
    "        for line in wanted:\n",
    "            if added % 100 == 0:\n",
    "                print('Added %s'%added)\n",
    "            id = line.strip().split(',')[0]\n",
    "            if id not in video_to_playlist_map.keys():\n",
    "                add_video_to_playlist(id,CURRENT_PLAYLIST_ID)\n",
    "                \n",
    "sync_playlist_with_wanted(CURRENT_PLAYLIST_ID)"
   ]
  },
  {
   "cell_type": "code",
   "execution_count": 2,
   "id": "colonial-advance",
   "metadata": {},
   "outputs": [
    {
     "ename": "NameError",
     "evalue": "name 'PROJECT_NAME' is not defined",
     "output_type": "error",
     "traceback": [
      "\u001b[0;31m---------------------------------------------------------------------------\u001b[0m",
      "\u001b[0;31mNameError\u001b[0m                                 Traceback (most recent call last)",
      "\u001b[0;32m<ipython-input-2-90341180942c>\u001b[0m in \u001b[0;36m<module>\u001b[0;34m\u001b[0m\n\u001b[1;32m      2\u001b[0m \u001b[0;32mimport\u001b[0m \u001b[0mdatetime\u001b[0m\u001b[0;34m\u001b[0m\u001b[0;34m\u001b[0m\u001b[0m\n\u001b[1;32m      3\u001b[0m \u001b[0mperiod\u001b[0m \u001b[0;34m=\u001b[0m \u001b[0mdatetime\u001b[0m\u001b[0;34m.\u001b[0m\u001b[0mdatetime\u001b[0m\u001b[0;34m.\u001b[0m\u001b[0mnow\u001b[0m\u001b[0;34m(\u001b[0m\u001b[0;34m)\u001b[0m\u001b[0;34m.\u001b[0m\u001b[0mstrftime\u001b[0m\u001b[0;34m(\u001b[0m\u001b[0;34m\"%Y-%m\"\u001b[0m\u001b[0;34m)\u001b[0m\u001b[0;34m\u001b[0m\u001b[0;34m\u001b[0m\u001b[0m\n\u001b[0;32m----> 4\u001b[0;31m \u001b[0mfname\u001b[0m \u001b[0;34m=\u001b[0m \u001b[0;34mf\"{PROJECT_NAME}_{period}.zim\"\u001b[0m\u001b[0;34m\u001b[0m\u001b[0;34m\u001b[0m\u001b[0m\n\u001b[0m\u001b[1;32m      5\u001b[0m \u001b[0;31m#logger.info(\"building ZIM file\")\u001b[0m\u001b[0;34m\u001b[0m\u001b[0;34m\u001b[0m\u001b[0;34m\u001b[0m\u001b[0m\n\u001b[1;32m      6\u001b[0m \u001b[0mtitle\u001b[0m \u001b[0;34m=\u001b[0m \u001b[0;34m'Experimental zim file from youtube TED talks.'\u001b[0m\u001b[0;34m\u001b[0m\u001b[0;34m\u001b[0m\u001b[0m\n",
      "\u001b[0;31mNameError\u001b[0m: name 'PROJECT_NAME' is not defined"
     ]
    }
   ],
   "source": [
    "from zimscraperlib.zim import make_zim_file\n",
    "import datetime\n",
    "period = datetime.datetime.now().strftime(\"%Y-%m\")\n",
    "fname = f\"{PROJECT_NAME}_{period}.zim\"\n",
    "#logger.info(\"building ZIM file\")\n",
    "title = 'Experimental zim file from youtube TED talks.'\n",
    "description = 'Experimental zim file from youtube TED talks.'\n",
    "language = 'eng'\n",
    "SCRAPER = 'Kluge using zimdump and zimlib'\n",
    "make_zim_file(\n",
    "    build_dir=OUTPUT_DIR,\n",
    "    fpath=OUTPUT_DIR + '/'+ fname,\n",
    "    zim_fname=fname,\n",
    "    output_dir=NEW_ZIM_DIR,\n",
    "    name=fname,\n",
    "    main_page=\"home.html\",\n",
    "    favicon=\"favicon.jpg\",\n",
    "    title=title,\n",
    "    description=description,\n",
    "    language=language,\n",
    "    creator='Ted Talks',\n",
    "    publisher=\"IIAB\",\n",
    "    #tags=tags,\n",
    "    scraper=SCRAPER,\n",
    ")\n"
   ]
  },
  {
   "cell_type": "code",
   "execution_count": null,
   "id": "painted-syndication",
   "metadata": {},
   "outputs": [],
   "source": []
  }
 ],
 "metadata": {
  "kernelspec": {
   "display_name": "Python 3",
   "language": "python",
   "name": "python3"
  },
  "language_info": {
   "codemirror_mode": {
    "name": "ipython",
    "version": 3
   },
   "file_extension": ".py",
   "mimetype": "text/x-python",
   "name": "python",
   "nbconvert_exporter": "python",
   "pygments_lexer": "ipython3",
   "version": "3.8.5"
  },
  "toc-autonumbering": true,
  "toc-showcode": true,
  "toc-showmarkdowntxt": false,
  "toc-showtags": true
 },
 "nbformat": 4,
 "nbformat_minor": 5
}
